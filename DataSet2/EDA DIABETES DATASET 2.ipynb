{
 "cells": [
  {
   "cell_type": "code",
   "execution_count": 1,
   "id": "f0201315",
   "metadata": {},
   "outputs": [
    {
     "name": "stdout",
     "output_type": "stream",
     "text": [
      "Requirement already satisfied: plotly in c:\\users\\lenovo\\anaconda3\\lib\\site-packages (5.6.0)\n",
      "Requirement already satisfied: six in c:\\users\\lenovo\\anaconda3\\lib\\site-packages (from plotly) (1.16.0)\n",
      "Requirement already satisfied: tenacity>=6.2.0 in c:\\users\\lenovo\\anaconda3\\lib\\site-packages (from plotly) (8.0.1)\n"
     ]
    }
   ],
   "source": [
    "!pip install plotly"
   ]
  },
  {
   "cell_type": "code",
   "execution_count": 1,
   "id": "8761a56b",
   "metadata": {},
   "outputs": [],
   "source": [
    "import pandas as pd \n",
    "import numpy as np\n",
    "import matplotlib.pyplot as plt\n",
    "import seaborn as sns \n",
    "import plotly.express as px"
   ]
  },
  {
   "cell_type": "code",
   "execution_count": 2,
   "id": "73ef28a6",
   "metadata": {},
   "outputs": [
    {
     "data": {
      "text/html": [
       "<div>\n",
       "<style scoped>\n",
       "    .dataframe tbody tr th:only-of-type {\n",
       "        vertical-align: middle;\n",
       "    }\n",
       "\n",
       "    .dataframe tbody tr th {\n",
       "        vertical-align: top;\n",
       "    }\n",
       "\n",
       "    .dataframe thead th {\n",
       "        text-align: right;\n",
       "    }\n",
       "</style>\n",
       "<table border=\"1\" class=\"dataframe\">\n",
       "  <thead>\n",
       "    <tr style=\"text-align: right;\">\n",
       "      <th></th>\n",
       "      <th>Age</th>\n",
       "      <th>Gender</th>\n",
       "      <th>Polyuria</th>\n",
       "      <th>Polydipsia</th>\n",
       "      <th>sudden weight loss</th>\n",
       "      <th>weakness</th>\n",
       "      <th>Polyphagia</th>\n",
       "      <th>Genital thrush</th>\n",
       "      <th>visual blurring</th>\n",
       "      <th>Itching</th>\n",
       "      <th>Irritability</th>\n",
       "      <th>delayed healing</th>\n",
       "      <th>partial paresis</th>\n",
       "      <th>muscle stiffness</th>\n",
       "      <th>Alopecia</th>\n",
       "      <th>Obesity</th>\n",
       "      <th>class</th>\n",
       "    </tr>\n",
       "  </thead>\n",
       "  <tbody>\n",
       "    <tr>\n",
       "      <th>0</th>\n",
       "      <td>40</td>\n",
       "      <td>Male</td>\n",
       "      <td>No</td>\n",
       "      <td>Yes</td>\n",
       "      <td>No</td>\n",
       "      <td>Yes</td>\n",
       "      <td>No</td>\n",
       "      <td>No</td>\n",
       "      <td>No</td>\n",
       "      <td>Yes</td>\n",
       "      <td>No</td>\n",
       "      <td>Yes</td>\n",
       "      <td>No</td>\n",
       "      <td>Yes</td>\n",
       "      <td>Yes</td>\n",
       "      <td>Yes</td>\n",
       "      <td>Positive</td>\n",
       "    </tr>\n",
       "    <tr>\n",
       "      <th>1</th>\n",
       "      <td>58</td>\n",
       "      <td>Male</td>\n",
       "      <td>No</td>\n",
       "      <td>No</td>\n",
       "      <td>No</td>\n",
       "      <td>Yes</td>\n",
       "      <td>No</td>\n",
       "      <td>No</td>\n",
       "      <td>Yes</td>\n",
       "      <td>No</td>\n",
       "      <td>No</td>\n",
       "      <td>No</td>\n",
       "      <td>Yes</td>\n",
       "      <td>No</td>\n",
       "      <td>Yes</td>\n",
       "      <td>No</td>\n",
       "      <td>Positive</td>\n",
       "    </tr>\n",
       "    <tr>\n",
       "      <th>2</th>\n",
       "      <td>41</td>\n",
       "      <td>Male</td>\n",
       "      <td>Yes</td>\n",
       "      <td>No</td>\n",
       "      <td>No</td>\n",
       "      <td>Yes</td>\n",
       "      <td>Yes</td>\n",
       "      <td>No</td>\n",
       "      <td>No</td>\n",
       "      <td>Yes</td>\n",
       "      <td>No</td>\n",
       "      <td>Yes</td>\n",
       "      <td>No</td>\n",
       "      <td>Yes</td>\n",
       "      <td>Yes</td>\n",
       "      <td>No</td>\n",
       "      <td>Positive</td>\n",
       "    </tr>\n",
       "    <tr>\n",
       "      <th>3</th>\n",
       "      <td>45</td>\n",
       "      <td>Male</td>\n",
       "      <td>No</td>\n",
       "      <td>No</td>\n",
       "      <td>Yes</td>\n",
       "      <td>Yes</td>\n",
       "      <td>Yes</td>\n",
       "      <td>Yes</td>\n",
       "      <td>No</td>\n",
       "      <td>Yes</td>\n",
       "      <td>No</td>\n",
       "      <td>Yes</td>\n",
       "      <td>No</td>\n",
       "      <td>No</td>\n",
       "      <td>No</td>\n",
       "      <td>No</td>\n",
       "      <td>Positive</td>\n",
       "    </tr>\n",
       "    <tr>\n",
       "      <th>4</th>\n",
       "      <td>60</td>\n",
       "      <td>Male</td>\n",
       "      <td>Yes</td>\n",
       "      <td>Yes</td>\n",
       "      <td>Yes</td>\n",
       "      <td>Yes</td>\n",
       "      <td>Yes</td>\n",
       "      <td>No</td>\n",
       "      <td>Yes</td>\n",
       "      <td>Yes</td>\n",
       "      <td>Yes</td>\n",
       "      <td>Yes</td>\n",
       "      <td>Yes</td>\n",
       "      <td>Yes</td>\n",
       "      <td>Yes</td>\n",
       "      <td>Yes</td>\n",
       "      <td>Positive</td>\n",
       "    </tr>\n",
       "  </tbody>\n",
       "</table>\n",
       "</div>"
      ],
      "text/plain": [
       "   Age Gender Polyuria Polydipsia sudden weight loss weakness Polyphagia  \\\n",
       "0   40   Male       No        Yes                 No      Yes         No   \n",
       "1   58   Male       No         No                 No      Yes         No   \n",
       "2   41   Male      Yes         No                 No      Yes        Yes   \n",
       "3   45   Male       No         No                Yes      Yes        Yes   \n",
       "4   60   Male      Yes        Yes                Yes      Yes        Yes   \n",
       "\n",
       "  Genital thrush visual blurring Itching Irritability delayed healing  \\\n",
       "0             No              No     Yes           No             Yes   \n",
       "1             No             Yes      No           No              No   \n",
       "2             No              No     Yes           No             Yes   \n",
       "3            Yes              No     Yes           No             Yes   \n",
       "4             No             Yes     Yes          Yes             Yes   \n",
       "\n",
       "  partial paresis muscle stiffness Alopecia Obesity     class  \n",
       "0              No              Yes      Yes     Yes  Positive  \n",
       "1             Yes               No      Yes      No  Positive  \n",
       "2              No              Yes      Yes      No  Positive  \n",
       "3              No               No       No      No  Positive  \n",
       "4             Yes              Yes      Yes     Yes  Positive  "
      ]
     },
     "execution_count": 2,
     "metadata": {},
     "output_type": "execute_result"
    }
   ],
   "source": [
    "data=pd.read_csv('diabetes_data_upload.csv')\n",
    "data.head()"
   ]
  },
  {
   "cell_type": "code",
   "execution_count": 3,
   "id": "12ac6fb7",
   "metadata": {},
   "outputs": [
    {
     "name": "stdout",
     "output_type": "stream",
     "text": [
      "Son 520 filas y 17 columnas\n"
     ]
    }
   ],
   "source": [
    "nr, nc = data.shape\n",
    "print (f\"Son {nr} filas y {nc} columnas\")"
   ]
  },
  {
   "cell_type": "code",
   "execution_count": 4,
   "id": "4e0a6312",
   "metadata": {},
   "outputs": [
    {
     "name": "stdout",
     "output_type": "stream",
     "text": [
      "Son 8840 atributos en dataset\n"
     ]
    }
   ],
   "source": [
    "data.size\n",
    "print (f\"Son {data.size} atributos en dataset\")\n"
   ]
  },
  {
   "cell_type": "code",
   "execution_count": 5,
   "id": "a629cd35",
   "metadata": {},
   "outputs": [
    {
     "data": {
      "text/plain": [
       "Index(['Age', 'Gender', 'Polyuria', 'Polydipsia', 'sudden weight loss',\n",
       "       'weakness', 'Polyphagia', 'Genital thrush', 'visual blurring',\n",
       "       'Itching', 'Irritability', 'delayed healing', 'partial paresis',\n",
       "       'muscle stiffness', 'Alopecia', 'Obesity', 'class'],\n",
       "      dtype='object')"
      ]
     },
     "execution_count": 5,
     "metadata": {},
     "output_type": "execute_result"
    }
   ],
   "source": [
    "data.columns"
   ]
  },
  {
   "cell_type": "code",
   "execution_count": 6,
   "id": "d7c8df24",
   "metadata": {},
   "outputs": [
    {
     "data": {
      "text/plain": [
       "['Gender',\n",
       " 'Polyuria',\n",
       " 'Polydipsia',\n",
       " 'sudden weight loss',\n",
       " 'weakness',\n",
       " 'Polyphagia',\n",
       " 'Genital thrush',\n",
       " 'visual blurring',\n",
       " 'Itching',\n",
       " 'Irritability',\n",
       " 'delayed healing',\n",
       " 'partial paresis',\n",
       " 'muscle stiffness',\n",
       " 'Alopecia',\n",
       " 'Obesity',\n",
       " 'class']"
      ]
     },
     "execution_count": 6,
     "metadata": {},
     "output_type": "execute_result"
    }
   ],
   "source": [
    "data.select_dtypes(include=['object']).columns.tolist()"
   ]
  },
  {
   "cell_type": "code",
   "execution_count": 7,
   "id": "9b36a726",
   "metadata": {},
   "outputs": [
    {
     "name": "stdout",
     "output_type": "stream",
     "text": [
      "<class 'pandas.core.frame.DataFrame'>\n",
      "RangeIndex: 520 entries, 0 to 519\n",
      "Data columns (total 17 columns):\n",
      " #   Column              Non-Null Count  Dtype \n",
      "---  ------              --------------  ----- \n",
      " 0   Age                 520 non-null    int64 \n",
      " 1   Gender              520 non-null    object\n",
      " 2   Polyuria            520 non-null    object\n",
      " 3   Polydipsia          520 non-null    object\n",
      " 4   sudden weight loss  520 non-null    object\n",
      " 5   weakness            520 non-null    object\n",
      " 6   Polyphagia          520 non-null    object\n",
      " 7   Genital thrush      520 non-null    object\n",
      " 8   visual blurring     520 non-null    object\n",
      " 9   Itching             520 non-null    object\n",
      " 10  Irritability        520 non-null    object\n",
      " 11  delayed healing     520 non-null    object\n",
      " 12  partial paresis     520 non-null    object\n",
      " 13  muscle stiffness    520 non-null    object\n",
      " 14  Alopecia            520 non-null    object\n",
      " 15  Obesity             520 non-null    object\n",
      " 16  class               520 non-null    object\n",
      "dtypes: int64(1), object(16)\n",
      "memory usage: 69.2+ KB\n"
     ]
    }
   ],
   "source": [
    "data.info()"
   ]
  },
  {
   "cell_type": "code",
   "execution_count": 8,
   "id": "35abc3f4",
   "metadata": {},
   "outputs": [],
   "source": [
    "dfTranform = data"
   ]
  },
  {
   "cell_type": "code",
   "execution_count": 9,
   "id": "55991615",
   "metadata": {},
   "outputs": [],
   "source": [
    "dfTranform = dfTranform.replace('Yes', 1, regex=True)\n",
    "dfTranform = dfTranform.replace('No', 0, regex=True)\n",
    "dfTranform = dfTranform.replace('Positive', 1, regex=True)\n",
    "dfTranform = dfTranform.replace('Negative', 0, regex=True)\n",
    "dfTranform = dfTranform.replace('Male', 0, regex=True)\n",
    "dfTranform = dfTranform.replace('Female', 1, regex=True)"
   ]
  },
  {
   "cell_type": "code",
   "execution_count": 10,
   "id": "7eff295a",
   "metadata": {
    "scrolled": true
   },
   "outputs": [
    {
     "data": {
      "text/html": [
       "<div>\n",
       "<style scoped>\n",
       "    .dataframe tbody tr th:only-of-type {\n",
       "        vertical-align: middle;\n",
       "    }\n",
       "\n",
       "    .dataframe tbody tr th {\n",
       "        vertical-align: top;\n",
       "    }\n",
       "\n",
       "    .dataframe thead th {\n",
       "        text-align: right;\n",
       "    }\n",
       "</style>\n",
       "<table border=\"1\" class=\"dataframe\">\n",
       "  <thead>\n",
       "    <tr style=\"text-align: right;\">\n",
       "      <th></th>\n",
       "      <th>Age</th>\n",
       "      <th>Gender</th>\n",
       "      <th>Polyuria</th>\n",
       "      <th>Polydipsia</th>\n",
       "      <th>sudden weight loss</th>\n",
       "      <th>weakness</th>\n",
       "      <th>Polyphagia</th>\n",
       "      <th>Genital thrush</th>\n",
       "      <th>visual blurring</th>\n",
       "      <th>Itching</th>\n",
       "      <th>Irritability</th>\n",
       "      <th>delayed healing</th>\n",
       "      <th>partial paresis</th>\n",
       "      <th>muscle stiffness</th>\n",
       "      <th>Alopecia</th>\n",
       "      <th>Obesity</th>\n",
       "      <th>class</th>\n",
       "    </tr>\n",
       "  </thead>\n",
       "  <tbody>\n",
       "    <tr>\n",
       "      <th>0</th>\n",
       "      <td>40</td>\n",
       "      <td>0</td>\n",
       "      <td>0</td>\n",
       "      <td>1</td>\n",
       "      <td>0</td>\n",
       "      <td>1</td>\n",
       "      <td>0</td>\n",
       "      <td>0</td>\n",
       "      <td>0</td>\n",
       "      <td>1</td>\n",
       "      <td>0</td>\n",
       "      <td>1</td>\n",
       "      <td>0</td>\n",
       "      <td>1</td>\n",
       "      <td>1</td>\n",
       "      <td>1</td>\n",
       "      <td>1</td>\n",
       "    </tr>\n",
       "    <tr>\n",
       "      <th>1</th>\n",
       "      <td>58</td>\n",
       "      <td>0</td>\n",
       "      <td>0</td>\n",
       "      <td>0</td>\n",
       "      <td>0</td>\n",
       "      <td>1</td>\n",
       "      <td>0</td>\n",
       "      <td>0</td>\n",
       "      <td>1</td>\n",
       "      <td>0</td>\n",
       "      <td>0</td>\n",
       "      <td>0</td>\n",
       "      <td>1</td>\n",
       "      <td>0</td>\n",
       "      <td>1</td>\n",
       "      <td>0</td>\n",
       "      <td>1</td>\n",
       "    </tr>\n",
       "    <tr>\n",
       "      <th>2</th>\n",
       "      <td>41</td>\n",
       "      <td>0</td>\n",
       "      <td>1</td>\n",
       "      <td>0</td>\n",
       "      <td>0</td>\n",
       "      <td>1</td>\n",
       "      <td>1</td>\n",
       "      <td>0</td>\n",
       "      <td>0</td>\n",
       "      <td>1</td>\n",
       "      <td>0</td>\n",
       "      <td>1</td>\n",
       "      <td>0</td>\n",
       "      <td>1</td>\n",
       "      <td>1</td>\n",
       "      <td>0</td>\n",
       "      <td>1</td>\n",
       "    </tr>\n",
       "    <tr>\n",
       "      <th>3</th>\n",
       "      <td>45</td>\n",
       "      <td>0</td>\n",
       "      <td>0</td>\n",
       "      <td>0</td>\n",
       "      <td>1</td>\n",
       "      <td>1</td>\n",
       "      <td>1</td>\n",
       "      <td>1</td>\n",
       "      <td>0</td>\n",
       "      <td>1</td>\n",
       "      <td>0</td>\n",
       "      <td>1</td>\n",
       "      <td>0</td>\n",
       "      <td>0</td>\n",
       "      <td>0</td>\n",
       "      <td>0</td>\n",
       "      <td>1</td>\n",
       "    </tr>\n",
       "    <tr>\n",
       "      <th>4</th>\n",
       "      <td>60</td>\n",
       "      <td>0</td>\n",
       "      <td>1</td>\n",
       "      <td>1</td>\n",
       "      <td>1</td>\n",
       "      <td>1</td>\n",
       "      <td>1</td>\n",
       "      <td>0</td>\n",
       "      <td>1</td>\n",
       "      <td>1</td>\n",
       "      <td>1</td>\n",
       "      <td>1</td>\n",
       "      <td>1</td>\n",
       "      <td>1</td>\n",
       "      <td>1</td>\n",
       "      <td>1</td>\n",
       "      <td>1</td>\n",
       "    </tr>\n",
       "  </tbody>\n",
       "</table>\n",
       "</div>"
      ],
      "text/plain": [
       "   Age  Gender  Polyuria  Polydipsia  sudden weight loss  weakness  \\\n",
       "0   40       0         0           1                   0         1   \n",
       "1   58       0         0           0                   0         1   \n",
       "2   41       0         1           0                   0         1   \n",
       "3   45       0         0           0                   1         1   \n",
       "4   60       0         1           1                   1         1   \n",
       "\n",
       "   Polyphagia  Genital thrush  visual blurring  Itching  Irritability  \\\n",
       "0           0               0                0        1             0   \n",
       "1           0               0                1        0             0   \n",
       "2           1               0                0        1             0   \n",
       "3           1               1                0        1             0   \n",
       "4           1               0                1        1             1   \n",
       "\n",
       "   delayed healing  partial paresis  muscle stiffness  Alopecia  Obesity  \\\n",
       "0                1                0                 1         1        1   \n",
       "1                0                1                 0         1        0   \n",
       "2                1                0                 1         1        0   \n",
       "3                1                0                 0         0        0   \n",
       "4                1                1                 1         1        1   \n",
       "\n",
       "   class  \n",
       "0      1  \n",
       "1      1  \n",
       "2      1  \n",
       "3      1  \n",
       "4      1  "
      ]
     },
     "execution_count": 10,
     "metadata": {},
     "output_type": "execute_result"
    }
   ],
   "source": [
    "dfTranform.head()"
   ]
  },
  {
   "cell_type": "code",
   "execution_count": 11,
   "id": "d8c9fa85",
   "metadata": {},
   "outputs": [
    {
     "data": {
      "text/plain": [
       "1    320\n",
       "0    200\n",
       "Name: class, dtype: int64"
      ]
     },
     "execution_count": 11,
     "metadata": {},
     "output_type": "execute_result"
    }
   ],
   "source": [
    "dfTranform['class'].value_counts()"
   ]
  },
  {
   "cell_type": "code",
   "execution_count": 12,
   "id": "26933d8c",
   "metadata": {},
   "outputs": [
    {
     "data": {
      "text/plain": [
       "0    328\n",
       "1    192\n",
       "Name: Gender, dtype: int64"
      ]
     },
     "execution_count": 12,
     "metadata": {},
     "output_type": "execute_result"
    }
   ],
   "source": [
    "dfTranform['Gender'].value_counts()"
   ]
  },
  {
   "cell_type": "code",
   "execution_count": 13,
   "id": "ff14336e",
   "metadata": {},
   "outputs": [
    {
     "name": "stdout",
     "output_type": "stream",
     "text": [
      "<class 'pandas.core.frame.DataFrame'>\n",
      "RangeIndex: 520 entries, 0 to 519\n",
      "Data columns (total 17 columns):\n",
      " #   Column              Non-Null Count  Dtype\n",
      "---  ------              --------------  -----\n",
      " 0   Age                 520 non-null    int64\n",
      " 1   Gender              520 non-null    int64\n",
      " 2   Polyuria            520 non-null    int64\n",
      " 3   Polydipsia          520 non-null    int64\n",
      " 4   sudden weight loss  520 non-null    int64\n",
      " 5   weakness            520 non-null    int64\n",
      " 6   Polyphagia          520 non-null    int64\n",
      " 7   Genital thrush      520 non-null    int64\n",
      " 8   visual blurring     520 non-null    int64\n",
      " 9   Itching             520 non-null    int64\n",
      " 10  Irritability        520 non-null    int64\n",
      " 11  delayed healing     520 non-null    int64\n",
      " 12  partial paresis     520 non-null    int64\n",
      " 13  muscle stiffness    520 non-null    int64\n",
      " 14  Alopecia            520 non-null    int64\n",
      " 15  Obesity             520 non-null    int64\n",
      " 16  class               520 non-null    int64\n",
      "dtypes: int64(17)\n",
      "memory usage: 69.2 KB\n"
     ]
    }
   ],
   "source": [
    "dfTranform.info()"
   ]
  },
  {
   "cell_type": "code",
   "execution_count": 14,
   "id": "0b15ec45",
   "metadata": {},
   "outputs": [
    {
     "data": {
      "text/plain": [
       "[]"
      ]
     },
     "execution_count": 14,
     "metadata": {},
     "output_type": "execute_result"
    }
   ],
   "source": [
    "dfTranform.select_dtypes(include=['object']).columns.tolist()"
   ]
  },
  {
   "cell_type": "code",
   "execution_count": 15,
   "id": "9b486fdb",
   "metadata": {},
   "outputs": [
    {
     "data": {
      "text/html": [
       "<style type=\"text/css\">\n",
       "#T_82d69_row0_col0, #T_82d69_row0_col1, #T_82d69_row0_col2, #T_82d69_row0_col3, #T_82d69_row0_col4, #T_82d69_row0_col5, #T_82d69_row0_col6, #T_82d69_row0_col7, #T_82d69_row0_col8, #T_82d69_row0_col9, #T_82d69_row0_col10, #T_82d69_row0_col11, #T_82d69_row0_col12, #T_82d69_row0_col13, #T_82d69_row0_col14, #T_82d69_row0_col15, #T_82d69_row0_col16 {\n",
       "  background-color: #023858;\n",
       "  color: #f1f1f1;\n",
       "}\n",
       "#T_82d69_row1_col0 {\n",
       "  background-color: #f4eef6;\n",
       "  color: #000000;\n",
       "}\n",
       "#T_82d69_row1_col1, #T_82d69_row1_col2, #T_82d69_row1_col3, #T_82d69_row1_col4, #T_82d69_row1_col5, #T_82d69_row1_col6, #T_82d69_row1_col7, #T_82d69_row1_col8, #T_82d69_row1_col9, #T_82d69_row1_col10, #T_82d69_row1_col11, #T_82d69_row1_col12, #T_82d69_row1_col13, #T_82d69_row1_col14, #T_82d69_row1_col15, #T_82d69_row1_col16, #T_82d69_row2_col0, #T_82d69_row2_col1, #T_82d69_row2_col2, #T_82d69_row2_col3, #T_82d69_row2_col4, #T_82d69_row2_col5, #T_82d69_row2_col6, #T_82d69_row2_col7, #T_82d69_row2_col8, #T_82d69_row2_col9, #T_82d69_row2_col10, #T_82d69_row2_col11, #T_82d69_row2_col12, #T_82d69_row2_col13, #T_82d69_row2_col14, #T_82d69_row2_col15, #T_82d69_row2_col16, #T_82d69_row3_col1, #T_82d69_row3_col2, #T_82d69_row3_col3, #T_82d69_row3_col4, #T_82d69_row3_col5, #T_82d69_row3_col6, #T_82d69_row3_col7, #T_82d69_row3_col8, #T_82d69_row3_col9, #T_82d69_row3_col10, #T_82d69_row3_col11, #T_82d69_row3_col12, #T_82d69_row3_col13, #T_82d69_row3_col14, #T_82d69_row3_col15, #T_82d69_row3_col16, #T_82d69_row4_col1, #T_82d69_row4_col2, #T_82d69_row4_col3, #T_82d69_row4_col4, #T_82d69_row4_col5, #T_82d69_row4_col6, #T_82d69_row4_col7, #T_82d69_row4_col8, #T_82d69_row4_col9, #T_82d69_row4_col10, #T_82d69_row4_col11, #T_82d69_row4_col12, #T_82d69_row4_col13, #T_82d69_row4_col14, #T_82d69_row4_col15, #T_82d69_row4_col16, #T_82d69_row5_col1, #T_82d69_row5_col2, #T_82d69_row5_col3, #T_82d69_row5_col4, #T_82d69_row5_col5, #T_82d69_row5_col6, #T_82d69_row5_col7, #T_82d69_row5_col8, #T_82d69_row5_col9, #T_82d69_row5_col10, #T_82d69_row5_col11, #T_82d69_row5_col12, #T_82d69_row5_col13, #T_82d69_row5_col14, #T_82d69_row5_col15, #T_82d69_row5_col16, #T_82d69_row6_col1, #T_82d69_row6_col2, #T_82d69_row6_col3, #T_82d69_row6_col4, #T_82d69_row6_col5, #T_82d69_row6_col6, #T_82d69_row6_col7, #T_82d69_row6_col8, #T_82d69_row6_col9, #T_82d69_row6_col10, #T_82d69_row6_col11, #T_82d69_row6_col12, #T_82d69_row6_col13, #T_82d69_row6_col14, #T_82d69_row6_col15, #T_82d69_row6_col16, #T_82d69_row7_col1, #T_82d69_row7_col2, #T_82d69_row7_col3, #T_82d69_row7_col4, #T_82d69_row7_col5, #T_82d69_row7_col6, #T_82d69_row7_col7, #T_82d69_row7_col8, #T_82d69_row7_col9, #T_82d69_row7_col10, #T_82d69_row7_col11, #T_82d69_row7_col12, #T_82d69_row7_col13, #T_82d69_row7_col14, #T_82d69_row7_col15, #T_82d69_row7_col16 {\n",
       "  background-color: #fff7fb;\n",
       "  color: #000000;\n",
       "}\n",
       "#T_82d69_row3_col0 {\n",
       "  background-color: #fef6fb;\n",
       "  color: #000000;\n",
       "}\n",
       "#T_82d69_row4_col0 {\n",
       "  background-color: #f7f0f7;\n",
       "  color: #000000;\n",
       "}\n",
       "#T_82d69_row5_col0 {\n",
       "  background-color: #f5eef6;\n",
       "  color: #000000;\n",
       "}\n",
       "#T_82d69_row6_col0 {\n",
       "  background-color: #f2ecf5;\n",
       "  color: #000000;\n",
       "}\n",
       "#T_82d69_row7_col0 {\n",
       "  background-color: #e6e2ef;\n",
       "  color: #000000;\n",
       "}\n",
       "</style>\n",
       "<table id=\"T_82d69\">\n",
       "  <thead>\n",
       "    <tr>\n",
       "      <th class=\"blank level0\" >&nbsp;</th>\n",
       "      <th id=\"T_82d69_level0_col0\" class=\"col_heading level0 col0\" >Age</th>\n",
       "      <th id=\"T_82d69_level0_col1\" class=\"col_heading level0 col1\" >Gender</th>\n",
       "      <th id=\"T_82d69_level0_col2\" class=\"col_heading level0 col2\" >Polyuria</th>\n",
       "      <th id=\"T_82d69_level0_col3\" class=\"col_heading level0 col3\" >Polydipsia</th>\n",
       "      <th id=\"T_82d69_level0_col4\" class=\"col_heading level0 col4\" >sudden weight loss</th>\n",
       "      <th id=\"T_82d69_level0_col5\" class=\"col_heading level0 col5\" >weakness</th>\n",
       "      <th id=\"T_82d69_level0_col6\" class=\"col_heading level0 col6\" >Polyphagia</th>\n",
       "      <th id=\"T_82d69_level0_col7\" class=\"col_heading level0 col7\" >Genital thrush</th>\n",
       "      <th id=\"T_82d69_level0_col8\" class=\"col_heading level0 col8\" >visual blurring</th>\n",
       "      <th id=\"T_82d69_level0_col9\" class=\"col_heading level0 col9\" >Itching</th>\n",
       "      <th id=\"T_82d69_level0_col10\" class=\"col_heading level0 col10\" >Irritability</th>\n",
       "      <th id=\"T_82d69_level0_col11\" class=\"col_heading level0 col11\" >delayed healing</th>\n",
       "      <th id=\"T_82d69_level0_col12\" class=\"col_heading level0 col12\" >partial paresis</th>\n",
       "      <th id=\"T_82d69_level0_col13\" class=\"col_heading level0 col13\" >muscle stiffness</th>\n",
       "      <th id=\"T_82d69_level0_col14\" class=\"col_heading level0 col14\" >Alopecia</th>\n",
       "      <th id=\"T_82d69_level0_col15\" class=\"col_heading level0 col15\" >Obesity</th>\n",
       "      <th id=\"T_82d69_level0_col16\" class=\"col_heading level0 col16\" >class</th>\n",
       "    </tr>\n",
       "  </thead>\n",
       "  <tbody>\n",
       "    <tr>\n",
       "      <th id=\"T_82d69_level0_row0\" class=\"row_heading level0 row0\" >count</th>\n",
       "      <td id=\"T_82d69_row0_col0\" class=\"data row0 col0\" >520.000000</td>\n",
       "      <td id=\"T_82d69_row0_col1\" class=\"data row0 col1\" >520.000000</td>\n",
       "      <td id=\"T_82d69_row0_col2\" class=\"data row0 col2\" >520.000000</td>\n",
       "      <td id=\"T_82d69_row0_col3\" class=\"data row0 col3\" >520.000000</td>\n",
       "      <td id=\"T_82d69_row0_col4\" class=\"data row0 col4\" >520.000000</td>\n",
       "      <td id=\"T_82d69_row0_col5\" class=\"data row0 col5\" >520.000000</td>\n",
       "      <td id=\"T_82d69_row0_col6\" class=\"data row0 col6\" >520.000000</td>\n",
       "      <td id=\"T_82d69_row0_col7\" class=\"data row0 col7\" >520.000000</td>\n",
       "      <td id=\"T_82d69_row0_col8\" class=\"data row0 col8\" >520.000000</td>\n",
       "      <td id=\"T_82d69_row0_col9\" class=\"data row0 col9\" >520.000000</td>\n",
       "      <td id=\"T_82d69_row0_col10\" class=\"data row0 col10\" >520.000000</td>\n",
       "      <td id=\"T_82d69_row0_col11\" class=\"data row0 col11\" >520.000000</td>\n",
       "      <td id=\"T_82d69_row0_col12\" class=\"data row0 col12\" >520.000000</td>\n",
       "      <td id=\"T_82d69_row0_col13\" class=\"data row0 col13\" >520.000000</td>\n",
       "      <td id=\"T_82d69_row0_col14\" class=\"data row0 col14\" >520.000000</td>\n",
       "      <td id=\"T_82d69_row0_col15\" class=\"data row0 col15\" >520.000000</td>\n",
       "      <td id=\"T_82d69_row0_col16\" class=\"data row0 col16\" >520.000000</td>\n",
       "    </tr>\n",
       "    <tr>\n",
       "      <th id=\"T_82d69_level0_row1\" class=\"row_heading level0 row1\" >mean</th>\n",
       "      <td id=\"T_82d69_row1_col0\" class=\"data row1 col0\" >48.030000</td>\n",
       "      <td id=\"T_82d69_row1_col1\" class=\"data row1 col1\" >0.370000</td>\n",
       "      <td id=\"T_82d69_row1_col2\" class=\"data row1 col2\" >0.500000</td>\n",
       "      <td id=\"T_82d69_row1_col3\" class=\"data row1 col3\" >0.450000</td>\n",
       "      <td id=\"T_82d69_row1_col4\" class=\"data row1 col4\" >0.420000</td>\n",
       "      <td id=\"T_82d69_row1_col5\" class=\"data row1 col5\" >0.590000</td>\n",
       "      <td id=\"T_82d69_row1_col6\" class=\"data row1 col6\" >0.460000</td>\n",
       "      <td id=\"T_82d69_row1_col7\" class=\"data row1 col7\" >0.220000</td>\n",
       "      <td id=\"T_82d69_row1_col8\" class=\"data row1 col8\" >0.450000</td>\n",
       "      <td id=\"T_82d69_row1_col9\" class=\"data row1 col9\" >0.490000</td>\n",
       "      <td id=\"T_82d69_row1_col10\" class=\"data row1 col10\" >0.240000</td>\n",
       "      <td id=\"T_82d69_row1_col11\" class=\"data row1 col11\" >0.460000</td>\n",
       "      <td id=\"T_82d69_row1_col12\" class=\"data row1 col12\" >0.430000</td>\n",
       "      <td id=\"T_82d69_row1_col13\" class=\"data row1 col13\" >0.380000</td>\n",
       "      <td id=\"T_82d69_row1_col14\" class=\"data row1 col14\" >0.340000</td>\n",
       "      <td id=\"T_82d69_row1_col15\" class=\"data row1 col15\" >0.170000</td>\n",
       "      <td id=\"T_82d69_row1_col16\" class=\"data row1 col16\" >0.620000</td>\n",
       "    </tr>\n",
       "    <tr>\n",
       "      <th id=\"T_82d69_level0_row2\" class=\"row_heading level0 row2\" >std</th>\n",
       "      <td id=\"T_82d69_row2_col0\" class=\"data row2 col0\" >12.150000</td>\n",
       "      <td id=\"T_82d69_row2_col1\" class=\"data row2 col1\" >0.480000</td>\n",
       "      <td id=\"T_82d69_row2_col2\" class=\"data row2 col2\" >0.500000</td>\n",
       "      <td id=\"T_82d69_row2_col3\" class=\"data row2 col3\" >0.500000</td>\n",
       "      <td id=\"T_82d69_row2_col4\" class=\"data row2 col4\" >0.490000</td>\n",
       "      <td id=\"T_82d69_row2_col5\" class=\"data row2 col5\" >0.490000</td>\n",
       "      <td id=\"T_82d69_row2_col6\" class=\"data row2 col6\" >0.500000</td>\n",
       "      <td id=\"T_82d69_row2_col7\" class=\"data row2 col7\" >0.420000</td>\n",
       "      <td id=\"T_82d69_row2_col8\" class=\"data row2 col8\" >0.500000</td>\n",
       "      <td id=\"T_82d69_row2_col9\" class=\"data row2 col9\" >0.500000</td>\n",
       "      <td id=\"T_82d69_row2_col10\" class=\"data row2 col10\" >0.430000</td>\n",
       "      <td id=\"T_82d69_row2_col11\" class=\"data row2 col11\" >0.500000</td>\n",
       "      <td id=\"T_82d69_row2_col12\" class=\"data row2 col12\" >0.500000</td>\n",
       "      <td id=\"T_82d69_row2_col13\" class=\"data row2 col13\" >0.480000</td>\n",
       "      <td id=\"T_82d69_row2_col14\" class=\"data row2 col14\" >0.480000</td>\n",
       "      <td id=\"T_82d69_row2_col15\" class=\"data row2 col15\" >0.380000</td>\n",
       "      <td id=\"T_82d69_row2_col16\" class=\"data row2 col16\" >0.490000</td>\n",
       "    </tr>\n",
       "    <tr>\n",
       "      <th id=\"T_82d69_level0_row3\" class=\"row_heading level0 row3\" >min</th>\n",
       "      <td id=\"T_82d69_row3_col0\" class=\"data row3 col0\" >16.000000</td>\n",
       "      <td id=\"T_82d69_row3_col1\" class=\"data row3 col1\" >0.000000</td>\n",
       "      <td id=\"T_82d69_row3_col2\" class=\"data row3 col2\" >0.000000</td>\n",
       "      <td id=\"T_82d69_row3_col3\" class=\"data row3 col3\" >0.000000</td>\n",
       "      <td id=\"T_82d69_row3_col4\" class=\"data row3 col4\" >0.000000</td>\n",
       "      <td id=\"T_82d69_row3_col5\" class=\"data row3 col5\" >0.000000</td>\n",
       "      <td id=\"T_82d69_row3_col6\" class=\"data row3 col6\" >0.000000</td>\n",
       "      <td id=\"T_82d69_row3_col7\" class=\"data row3 col7\" >0.000000</td>\n",
       "      <td id=\"T_82d69_row3_col8\" class=\"data row3 col8\" >0.000000</td>\n",
       "      <td id=\"T_82d69_row3_col9\" class=\"data row3 col9\" >0.000000</td>\n",
       "      <td id=\"T_82d69_row3_col10\" class=\"data row3 col10\" >0.000000</td>\n",
       "      <td id=\"T_82d69_row3_col11\" class=\"data row3 col11\" >0.000000</td>\n",
       "      <td id=\"T_82d69_row3_col12\" class=\"data row3 col12\" >0.000000</td>\n",
       "      <td id=\"T_82d69_row3_col13\" class=\"data row3 col13\" >0.000000</td>\n",
       "      <td id=\"T_82d69_row3_col14\" class=\"data row3 col14\" >0.000000</td>\n",
       "      <td id=\"T_82d69_row3_col15\" class=\"data row3 col15\" >0.000000</td>\n",
       "      <td id=\"T_82d69_row3_col16\" class=\"data row3 col16\" >0.000000</td>\n",
       "    </tr>\n",
       "    <tr>\n",
       "      <th id=\"T_82d69_level0_row4\" class=\"row_heading level0 row4\" >25%</th>\n",
       "      <td id=\"T_82d69_row4_col0\" class=\"data row4 col0\" >39.000000</td>\n",
       "      <td id=\"T_82d69_row4_col1\" class=\"data row4 col1\" >0.000000</td>\n",
       "      <td id=\"T_82d69_row4_col2\" class=\"data row4 col2\" >0.000000</td>\n",
       "      <td id=\"T_82d69_row4_col3\" class=\"data row4 col3\" >0.000000</td>\n",
       "      <td id=\"T_82d69_row4_col4\" class=\"data row4 col4\" >0.000000</td>\n",
       "      <td id=\"T_82d69_row4_col5\" class=\"data row4 col5\" >0.000000</td>\n",
       "      <td id=\"T_82d69_row4_col6\" class=\"data row4 col6\" >0.000000</td>\n",
       "      <td id=\"T_82d69_row4_col7\" class=\"data row4 col7\" >0.000000</td>\n",
       "      <td id=\"T_82d69_row4_col8\" class=\"data row4 col8\" >0.000000</td>\n",
       "      <td id=\"T_82d69_row4_col9\" class=\"data row4 col9\" >0.000000</td>\n",
       "      <td id=\"T_82d69_row4_col10\" class=\"data row4 col10\" >0.000000</td>\n",
       "      <td id=\"T_82d69_row4_col11\" class=\"data row4 col11\" >0.000000</td>\n",
       "      <td id=\"T_82d69_row4_col12\" class=\"data row4 col12\" >0.000000</td>\n",
       "      <td id=\"T_82d69_row4_col13\" class=\"data row4 col13\" >0.000000</td>\n",
       "      <td id=\"T_82d69_row4_col14\" class=\"data row4 col14\" >0.000000</td>\n",
       "      <td id=\"T_82d69_row4_col15\" class=\"data row4 col15\" >0.000000</td>\n",
       "      <td id=\"T_82d69_row4_col16\" class=\"data row4 col16\" >0.000000</td>\n",
       "    </tr>\n",
       "    <tr>\n",
       "      <th id=\"T_82d69_level0_row5\" class=\"row_heading level0 row5\" >50%</th>\n",
       "      <td id=\"T_82d69_row5_col0\" class=\"data row5 col0\" >47.500000</td>\n",
       "      <td id=\"T_82d69_row5_col1\" class=\"data row5 col1\" >0.000000</td>\n",
       "      <td id=\"T_82d69_row5_col2\" class=\"data row5 col2\" >0.000000</td>\n",
       "      <td id=\"T_82d69_row5_col3\" class=\"data row5 col3\" >0.000000</td>\n",
       "      <td id=\"T_82d69_row5_col4\" class=\"data row5 col4\" >0.000000</td>\n",
       "      <td id=\"T_82d69_row5_col5\" class=\"data row5 col5\" >1.000000</td>\n",
       "      <td id=\"T_82d69_row5_col6\" class=\"data row5 col6\" >0.000000</td>\n",
       "      <td id=\"T_82d69_row5_col7\" class=\"data row5 col7\" >0.000000</td>\n",
       "      <td id=\"T_82d69_row5_col8\" class=\"data row5 col8\" >0.000000</td>\n",
       "      <td id=\"T_82d69_row5_col9\" class=\"data row5 col9\" >0.000000</td>\n",
       "      <td id=\"T_82d69_row5_col10\" class=\"data row5 col10\" >0.000000</td>\n",
       "      <td id=\"T_82d69_row5_col11\" class=\"data row5 col11\" >0.000000</td>\n",
       "      <td id=\"T_82d69_row5_col12\" class=\"data row5 col12\" >0.000000</td>\n",
       "      <td id=\"T_82d69_row5_col13\" class=\"data row5 col13\" >0.000000</td>\n",
       "      <td id=\"T_82d69_row5_col14\" class=\"data row5 col14\" >0.000000</td>\n",
       "      <td id=\"T_82d69_row5_col15\" class=\"data row5 col15\" >0.000000</td>\n",
       "      <td id=\"T_82d69_row5_col16\" class=\"data row5 col16\" >1.000000</td>\n",
       "    </tr>\n",
       "    <tr>\n",
       "      <th id=\"T_82d69_level0_row6\" class=\"row_heading level0 row6\" >75%</th>\n",
       "      <td id=\"T_82d69_row6_col0\" class=\"data row6 col0\" >57.000000</td>\n",
       "      <td id=\"T_82d69_row6_col1\" class=\"data row6 col1\" >1.000000</td>\n",
       "      <td id=\"T_82d69_row6_col2\" class=\"data row6 col2\" >1.000000</td>\n",
       "      <td id=\"T_82d69_row6_col3\" class=\"data row6 col3\" >1.000000</td>\n",
       "      <td id=\"T_82d69_row6_col4\" class=\"data row6 col4\" >1.000000</td>\n",
       "      <td id=\"T_82d69_row6_col5\" class=\"data row6 col5\" >1.000000</td>\n",
       "      <td id=\"T_82d69_row6_col6\" class=\"data row6 col6\" >1.000000</td>\n",
       "      <td id=\"T_82d69_row6_col7\" class=\"data row6 col7\" >0.000000</td>\n",
       "      <td id=\"T_82d69_row6_col8\" class=\"data row6 col8\" >1.000000</td>\n",
       "      <td id=\"T_82d69_row6_col9\" class=\"data row6 col9\" >1.000000</td>\n",
       "      <td id=\"T_82d69_row6_col10\" class=\"data row6 col10\" >0.000000</td>\n",
       "      <td id=\"T_82d69_row6_col11\" class=\"data row6 col11\" >1.000000</td>\n",
       "      <td id=\"T_82d69_row6_col12\" class=\"data row6 col12\" >1.000000</td>\n",
       "      <td id=\"T_82d69_row6_col13\" class=\"data row6 col13\" >1.000000</td>\n",
       "      <td id=\"T_82d69_row6_col14\" class=\"data row6 col14\" >1.000000</td>\n",
       "      <td id=\"T_82d69_row6_col15\" class=\"data row6 col15\" >0.000000</td>\n",
       "      <td id=\"T_82d69_row6_col16\" class=\"data row6 col16\" >1.000000</td>\n",
       "    </tr>\n",
       "    <tr>\n",
       "      <th id=\"T_82d69_level0_row7\" class=\"row_heading level0 row7\" >max</th>\n",
       "      <td id=\"T_82d69_row7_col0\" class=\"data row7 col0\" >90.000000</td>\n",
       "      <td id=\"T_82d69_row7_col1\" class=\"data row7 col1\" >1.000000</td>\n",
       "      <td id=\"T_82d69_row7_col2\" class=\"data row7 col2\" >1.000000</td>\n",
       "      <td id=\"T_82d69_row7_col3\" class=\"data row7 col3\" >1.000000</td>\n",
       "      <td id=\"T_82d69_row7_col4\" class=\"data row7 col4\" >1.000000</td>\n",
       "      <td id=\"T_82d69_row7_col5\" class=\"data row7 col5\" >1.000000</td>\n",
       "      <td id=\"T_82d69_row7_col6\" class=\"data row7 col6\" >1.000000</td>\n",
       "      <td id=\"T_82d69_row7_col7\" class=\"data row7 col7\" >1.000000</td>\n",
       "      <td id=\"T_82d69_row7_col8\" class=\"data row7 col8\" >1.000000</td>\n",
       "      <td id=\"T_82d69_row7_col9\" class=\"data row7 col9\" >1.000000</td>\n",
       "      <td id=\"T_82d69_row7_col10\" class=\"data row7 col10\" >1.000000</td>\n",
       "      <td id=\"T_82d69_row7_col11\" class=\"data row7 col11\" >1.000000</td>\n",
       "      <td id=\"T_82d69_row7_col12\" class=\"data row7 col12\" >1.000000</td>\n",
       "      <td id=\"T_82d69_row7_col13\" class=\"data row7 col13\" >1.000000</td>\n",
       "      <td id=\"T_82d69_row7_col14\" class=\"data row7 col14\" >1.000000</td>\n",
       "      <td id=\"T_82d69_row7_col15\" class=\"data row7 col15\" >1.000000</td>\n",
       "      <td id=\"T_82d69_row7_col16\" class=\"data row7 col16\" >1.000000</td>\n",
       "    </tr>\n",
       "  </tbody>\n",
       "</table>\n"
      ],
      "text/plain": [
       "<pandas.io.formats.style.Styler at 0x23b82c7bd30>"
      ]
     },
     "execution_count": 15,
     "metadata": {},
     "output_type": "execute_result"
    }
   ],
   "source": [
    "dfTranform.describe().round(2).style.background_gradient()"
   ]
  },
  {
   "cell_type": "code",
   "execution_count": 16,
   "id": "12c30d17",
   "metadata": {},
   "outputs": [
    {
     "data": {
      "text/plain": [
       "0      1\n",
       "1      1\n",
       "2      1\n",
       "3      1\n",
       "4      1\n",
       "      ..\n",
       "515    1\n",
       "516    1\n",
       "517    1\n",
       "518    0\n",
       "519    0\n",
       "Name: class, Length: 520, dtype: int64"
      ]
     },
     "execution_count": 16,
     "metadata": {},
     "output_type": "execute_result"
    }
   ],
   "source": [
    "dfTranform[\"class\"]"
   ]
  },
  {
   "cell_type": "code",
   "execution_count": 17,
   "id": "6d3d2dc4",
   "metadata": {},
   "outputs": [
    {
     "data": {
      "text/plain": [
       "1    320\n",
       "0    200\n",
       "Name: class, dtype: int64"
      ]
     },
     "execution_count": 17,
     "metadata": {},
     "output_type": "execute_result"
    }
   ],
   "source": [
    "dfTranform['class'].value_counts()"
   ]
  },
  {
   "cell_type": "code",
   "execution_count": 18,
   "id": "cd41a9c2",
   "metadata": {},
   "outputs": [
    {
     "data": {
      "text/plain": [
       "Age                   0\n",
       "Gender                0\n",
       "Polyuria              0\n",
       "Polydipsia            0\n",
       "sudden weight loss    0\n",
       "weakness              0\n",
       "Polyphagia            0\n",
       "Genital thrush        0\n",
       "visual blurring       0\n",
       "Itching               0\n",
       "Irritability          0\n",
       "delayed healing       0\n",
       "partial paresis       0\n",
       "muscle stiffness      0\n",
       "Alopecia              0\n",
       "Obesity               0\n",
       "class                 0\n",
       "dtype: int64"
      ]
     },
     "execution_count": 18,
     "metadata": {},
     "output_type": "execute_result"
    }
   ],
   "source": [
    "dfTranform.isnull().sum()"
   ]
  },
  {
   "cell_type": "code",
   "execution_count": 19,
   "id": "e5e97392",
   "metadata": {},
   "outputs": [
    {
     "name": "stderr",
     "output_type": "stream",
     "text": [
      "C:\\Users\\lenovo\\AppData\\Local\\Temp\\ipykernel_8444\\2620317776.py:2: DeprecationWarning: `np.bool` is a deprecated alias for the builtin `bool`. To silence this warning, use `bool` by itself. Doing this will not modify any behavior and is safe. If you specifically wanted the numpy scalar type, use `np.bool_` here.\n",
      "Deprecated in NumPy 1.20; for more details and guidance: https://numpy.org/devdocs/release/1.20.0-notes.html#deprecations\n",
      "  mask = np.zeros_like(corr, dtype=np.bool)\n"
     ]
    },
    {
     "data": {
      "text/plain": [
       "<AxesSubplot:>"
      ]
     },
     "execution_count": 19,
     "metadata": {},
     "output_type": "execute_result"
    },
    {
     "data": {
      "image/png": "[encoded data removed]",
      "text/plain": [
       "<Figure size 504x360 with 2 Axes>"
      ]
     },
     "metadata": {
      "needs_background": "light"
     },
     "output_type": "display_data"
    }
   ],
   "source": [
    "corr=dfTranform.corr()\n",
    "mask = np.zeros_like(corr, dtype=np.bool)\n",
    "mask[np.triu_indices_from(mask)] = True\n",
    "f, ax = plt.subplots(figsize=(7, 5))\n",
    "cmap = sns.diverging_palette(220, 10, as_cmap=True)\n",
    "sns.heatmap(corr, mask=mask, cmap=cmap, vmax=.5, center=0, linewidths=.5, cbar_kws={\"shrink\": .5})"
   ]
  },
  {
   "cell_type": "code",
   "execution_count": null,
   "id": "54f2d91e",
   "metadata": {},
   "outputs": [],
   "source": [
    "  "
   ]
  },
  {
   "cell_type": "code",
   "execution_count": 20,
   "id": "822efafc",
   "metadata": {},
   "outputs": [
    {
     "name": "stderr",
     "output_type": "stream",
     "text": [
      "C:\\Users\\lenovo\\anaconda3\\lib\\site-packages\\seaborn\\distributions.py:2619: FutureWarning: `distplot` is a deprecated function and will be removed in a future version. Please adapt your code to use either `displot` (a figure-level function with similar flexibility) or `histplot` (an axes-level function for histograms).\n",
      "  warnings.warn(msg, FutureWarning)\n"
     ]
    },
    {
     "data": {
      "text/plain": [
       "<AxesSubplot:xlabel='Age', ylabel='Density'>"
      ]
     },
     "execution_count": 20,
     "metadata": {},
     "output_type": "execute_result"
    },
    {
     "data": {
      "image/png": "[encoded data removed]",
      "text/plain": [
       "<Figure size 432x288 with 1 Axes>"
      ]
     },
     "metadata": {
      "needs_background": "light"
     },
     "output_type": "display_data"
    }
   ],
   "source": [
    "sns.distplot(dfTranform['Age'],bins=30)"
   ]
  },
  {
   "cell_type": "code",
   "execution_count": 21,
   "id": "513055ba",
   "metadata": {},
   "outputs": [
    {
     "data": {
      "image/png": "[encoded data removed]",
      "text/plain": [
       "<Figure size 432x288 with 20 Axes>"
      ]
     },
     "metadata": {
      "needs_background": "light"
     },
     "output_type": "display_data"
    }
   ],
   "source": [
    "#Hacemos una visualización en general de los datos de entrada.\n",
    "dfTranform.hist()\n",
    "plt.show()\n",
    "#En estas gráficas vemos entre qué valores se concentran la mayoría de registros."
   ]
  },
  {
   "cell_type": "code",
   "execution_count": null,
   "id": "7eea44e2",
   "metadata": {},
   "outputs": [],
   "source": []
  },
  {
   "cell_type": "code",
   "execution_count": null,
   "id": "42119f15",
   "metadata": {},
   "outputs": [],
   "source": []
  },
  {
   "cell_type": "markdown",
   "id": "334fc730",
   "metadata": {},
   "source": [
    "# Seleccion de variables"
   ]
  },
  {
   "cell_type": "code",
   "execution_count": 24,
   "id": "e0830094",
   "metadata": {},
   "outputs": [
    {
     "data": {
      "text/plain": [
       "Index(['Age', 'Gender', 'Polyuria', 'Polydipsia', 'sudden weight loss',\n",
       "       'weakness', 'Polyphagia', 'Genital thrush', 'visual blurring',\n",
       "       'Itching', 'Irritability', 'delayed healing', 'partial paresis',\n",
       "       'muscle stiffness', 'Alopecia', 'Obesity'],\n",
       "      dtype='object')"
      ]
     },
     "execution_count": 24,
     "metadata": {},
     "output_type": "execute_result"
    }
   ],
   "source": [
    "X1 = dfTranform.iloc[:,0:-1]\n",
    "y1 = dfTranform.iloc[:,-1]\n",
    "X1.columns"
   ]
  },
  {
   "cell_type": "code",
   "execution_count": 25,
   "id": "3ebcac6c",
   "metadata": {},
   "outputs": [],
   "source": [
    "from sklearn.feature_selection import SelectKBest\n",
    "from sklearn.feature_selection import chi2\n",
    "best_feature = SelectKBest(score_func=chi2,k=10)\n",
    "fit = best_feature.fit(X1,y1)"
   ]
  },
  {
   "cell_type": "code",
   "execution_count": 26,
   "id": "e7cd9f9c",
   "metadata": {},
   "outputs": [],
   "source": [
    "dataset_scores = pd.DataFrame(fit.scores_)\n",
    "dataset_cols = pd.DataFrame(X1.columns)\n",
    "featurescores = pd.concat([dataset_cols,dataset_scores],axis=1)\n",
    "featurescores.columns=['column','scores']"
   ]
  },
  {
   "cell_type": "code",
   "execution_count": 27,
   "id": "6e39a645",
   "metadata": {},
   "outputs": [
    {
     "data": {
      "text/html": [
       "<div>\n",
       "<style scoped>\n",
       "    .dataframe tbody tr th:only-of-type {\n",
       "        vertical-align: middle;\n",
       "    }\n",
       "\n",
       "    .dataframe tbody tr th {\n",
       "        vertical-align: top;\n",
       "    }\n",
       "\n",
       "    .dataframe thead th {\n",
       "        text-align: right;\n",
       "    }\n",
       "</style>\n",
       "<table border=\"1\" class=\"dataframe\">\n",
       "  <thead>\n",
       "    <tr style=\"text-align: right;\">\n",
       "      <th></th>\n",
       "      <th>column</th>\n",
       "      <th>scores</th>\n",
       "    </tr>\n",
       "  </thead>\n",
       "  <tbody>\n",
       "    <tr>\n",
       "      <th>0</th>\n",
       "      <td>Age</td>\n",
       "      <td>18.845767</td>\n",
       "    </tr>\n",
       "    <tr>\n",
       "      <th>1</th>\n",
       "      <td>Gender</td>\n",
       "      <td>66.193880</td>\n",
       "    </tr>\n",
       "    <tr>\n",
       "      <th>2</th>\n",
       "      <td>Polyuria</td>\n",
       "      <td>116.184593</td>\n",
       "    </tr>\n",
       "    <tr>\n",
       "      <th>3</th>\n",
       "      <td>Polydipsia</td>\n",
       "      <td>120.785515</td>\n",
       "    </tr>\n",
       "    <tr>\n",
       "      <th>4</th>\n",
       "      <td>sudden weight loss</td>\n",
       "      <td>57.749309</td>\n",
       "    </tr>\n",
       "    <tr>\n",
       "      <th>5</th>\n",
       "      <td>weakness</td>\n",
       "      <td>12.724262</td>\n",
       "    </tr>\n",
       "    <tr>\n",
       "      <th>6</th>\n",
       "      <td>Polyphagia</td>\n",
       "      <td>33.198418</td>\n",
       "    </tr>\n",
       "    <tr>\n",
       "      <th>7</th>\n",
       "      <td>Genital thrush</td>\n",
       "      <td>4.914009</td>\n",
       "    </tr>\n",
       "    <tr>\n",
       "      <th>8</th>\n",
       "      <td>visual blurring</td>\n",
       "      <td>18.124571</td>\n",
       "    </tr>\n",
       "    <tr>\n",
       "      <th>9</th>\n",
       "      <td>Itching</td>\n",
       "      <td>0.047826</td>\n",
       "    </tr>\n",
       "    <tr>\n",
       "      <th>10</th>\n",
       "      <td>Irritability</td>\n",
       "      <td>35.334127</td>\n",
       "    </tr>\n",
       "    <tr>\n",
       "      <th>11</th>\n",
       "      <td>delayed healing</td>\n",
       "      <td>0.620188</td>\n",
       "    </tr>\n",
       "    <tr>\n",
       "      <th>12</th>\n",
       "      <td>partial paresis</td>\n",
       "      <td>55.314286</td>\n",
       "    </tr>\n",
       "    <tr>\n",
       "      <th>13</th>\n",
       "      <td>muscle stiffness</td>\n",
       "      <td>4.875000</td>\n",
       "    </tr>\n",
       "    <tr>\n",
       "      <th>14</th>\n",
       "      <td>Alopecia</td>\n",
       "      <td>24.402793</td>\n",
       "    </tr>\n",
       "    <tr>\n",
       "      <th>15</th>\n",
       "      <td>Obesity</td>\n",
       "      <td>2.250284</td>\n",
       "    </tr>\n",
       "  </tbody>\n",
       "</table>\n",
       "</div>"
      ],
      "text/plain": [
       "                column      scores\n",
       "0                  Age   18.845767\n",
       "1               Gender   66.193880\n",
       "2             Polyuria  116.184593\n",
       "3           Polydipsia  120.785515\n",
       "4   sudden weight loss   57.749309\n",
       "5             weakness   12.724262\n",
       "6           Polyphagia   33.198418\n",
       "7       Genital thrush    4.914009\n",
       "8      visual blurring   18.124571\n",
       "9              Itching    0.047826\n",
       "10        Irritability   35.334127\n",
       "11     delayed healing    0.620188\n",
       "12     partial paresis   55.314286\n",
       "13    muscle stiffness    4.875000\n",
       "14            Alopecia   24.402793\n",
       "15             Obesity    2.250284"
      ]
     },
     "execution_count": 27,
     "metadata": {},
     "output_type": "execute_result"
    }
   ],
   "source": [
    "featurescores"
   ]
  },
  {
   "cell_type": "code",
   "execution_count": 28,
   "id": "84cfc30e",
   "metadata": {},
   "outputs": [
    {
     "name": "stdout",
     "output_type": "stream",
     "text": [
      "                column      scores\n",
      "3           Polydipsia  120.785515\n",
      "2             Polyuria  116.184593\n",
      "1               Gender   66.193880\n",
      "4   sudden weight loss   57.749309\n",
      "12     partial paresis   55.314286\n",
      "10        Irritability   35.334127\n",
      "6           Polyphagia   33.198418\n",
      "14            Alopecia   24.402793\n",
      "0                  Age   18.845767\n",
      "8      visual blurring   18.124571\n"
     ]
    }
   ],
   "source": [
    "print(featurescores.nlargest(10,'scores'))"
   ]
  },
  {
   "cell_type": "code",
   "execution_count": 29,
   "id": "3c50fb4b",
   "metadata": {},
   "outputs": [
    {
     "data": {
      "text/plain": [
       "<AxesSubplot:>"
      ]
     },
     "execution_count": 29,
     "metadata": {},
     "output_type": "execute_result"
    },
    {
     "data": {
      "image/png": "[encoded data removed]",
      "text/plain": [
       "<Figure size 432x288 with 1 Axes>"
      ]
     },
     "metadata": {
      "needs_background": "light"
     },
     "output_type": "display_data"
    }
   ],
   "source": [
    "featureview=pd.Series(fit.scores_, index=X1.columns)\n",
    "featureview.plot(kind='barh')"
   ]
  },
  {
   "cell_type": "code",
   "execution_count": 31,
   "id": "1b4fca89",
   "metadata": {},
   "outputs": [],
   "source": [
    "X = dfTranform[['Polydipsia','sudden weight loss','partial paresis','Irritability','Polyphagia','Age','visual blurring','Itching']]\n",
    "y = dfTranform['class']"
   ]
  },
  {
   "cell_type": "code",
   "execution_count": null,
   "id": "81cdff5c",
   "metadata": {},
   "outputs": [],
   "source": []
  },
  {
   "cell_type": "code",
   "execution_count": 32,
   "id": "ed71e107",
   "metadata": {},
   "outputs": [],
   "source": [
    "from sklearn.model_selection import train_test_split\n",
    "X_train,X_test,y_train,y_test = train_test_split(X,y,test_size = 0.2,random_state=0)"
   ]
  },
  {
   "cell_type": "code",
   "execution_count": 33,
   "id": "af4bf475",
   "metadata": {},
   "outputs": [],
   "source": [
    "from sklearn.preprocessing import StandardScaler\n",
    "ss = StandardScaler()\n",
    "X_train = ss.fit_transform(X_train)\n",
    "X_test = ss.transform(X_test)"
   ]
  },
  {
   "cell_type": "markdown",
   "id": "9f2d4a09",
   "metadata": {},
   "source": [
    "# Vecinos KNN"
   ]
  },
  {
   "cell_type": "code",
   "execution_count": 35,
   "id": "5c906ead",
   "metadata": {},
   "outputs": [],
   "source": [
    "\n",
    "from sklearn.metrics import accuracy_score,confusion_matrix"
   ]
  },
  {
   "cell_type": "code",
   "execution_count": 36,
   "id": "ae4aa701",
   "metadata": {},
   "outputs": [
    {
     "name": "stdout",
     "output_type": "stream",
     "text": [
      "[100.0, 98.08, 97.12, 95.19, 95.19]\n"
     ]
    }
   ],
   "source": [
    "from sklearn.neighbors import KNeighborsClassifier\n",
    "score=[]\n",
    "\n",
    "for i in range(1,10):\n",
    "    \n",
    "    \n",
    "    knn=KNeighborsClassifier(n_neighbors=i,metric='minkowski',p=2)\n",
    "    knn.fit(X_train,y_train)\n",
    "    pre3=knn.predict(X_test)\n",
    "    ans=accuracy_score(pre3,y_test)\n",
    "    score.append(round(100*ans,2))\n",
    "print(sorted(score,reverse=True)[:5])\n",
    "knn=sorted(score,reverse=True)[:1]"
   ]
  },
  {
   "cell_type": "code",
   "execution_count": null,
   "id": "bae545c4",
   "metadata": {},
   "outputs": [],
   "source": []
  },
  {
   "cell_type": "markdown",
   "id": "98c49a54",
   "metadata": {},
   "source": [
    "# SVC"
   ]
  },
  {
   "cell_type": "code",
   "execution_count": 41,
   "id": "3e17c95f",
   "metadata": {},
   "outputs": [
    {
     "data": {
      "text/plain": [
       "SVC(kernel='poly', random_state=0)"
      ]
     },
     "execution_count": 41,
     "metadata": {},
     "output_type": "execute_result"
    }
   ],
   "source": [
    "from sklearn.svm import SVC\n",
    "svpre=SVC(kernel='poly',random_state=0)\n",
    "svpre.fit(X_train,y_train)"
   ]
  },
  {
   "cell_type": "code",
   "execution_count": 42,
   "id": "4cbfc2c5",
   "metadata": {},
   "outputs": [
    {
     "name": "stdout",
     "output_type": "stream",
     "text": [
      "0.9519230769230769\n",
      "[[36  1]\n",
      " [ 4 63]]\n"
     ]
    }
   ],
   "source": [
    "pre2=svpre.predict(X_test)\n",
    "svm_sigmoid=accuracy_score(pre2,y_test)\n",
    "print(accuracy_score(pre2,y_test))\n",
    "print(confusion_matrix(pre2,y_test))"
   ]
  },
  {
   "cell_type": "code",
   "execution_count": 43,
   "id": "f4b4985b",
   "metadata": {},
   "outputs": [
    {
     "name": "stdout",
     "output_type": "stream",
     "text": [
      "              precision    recall  f1-score   support\n",
      "\n",
      "           0       0.90      0.97      0.94        37\n",
      "           1       0.98      0.94      0.96        67\n",
      "\n",
      "    accuracy                           0.95       104\n",
      "   macro avg       0.94      0.96      0.95       104\n",
      "weighted avg       0.95      0.95      0.95       104\n",
      "\n"
     ]
    }
   ],
   "source": [
    "from sklearn.metrics import classification_report\n",
    "print(classification_report(pre2,y_test))"
   ]
  },
  {
   "cell_type": "markdown",
   "id": "81d8a755",
   "metadata": {},
   "source": [
    "# TREE DTC"
   ]
  },
  {
   "cell_type": "code",
   "execution_count": 44,
   "id": "6fcb61d9",
   "metadata": {},
   "outputs": [
    {
     "data": {
      "text/plain": [
       "DecisionTreeClassifier()"
      ]
     },
     "execution_count": 44,
     "metadata": {},
     "output_type": "execute_result"
    }
   ],
   "source": [
    "from sklearn.tree import DecisionTreeClassifier\n",
    "dc=DecisionTreeClassifier(criterion='gini')\n",
    "dc.fit(X_train,y_train)"
   ]
  },
  {
   "cell_type": "code",
   "execution_count": 45,
   "id": "4a9887b2",
   "metadata": {},
   "outputs": [
    {
     "name": "stdout",
     "output_type": "stream",
     "text": [
      "accuracy is 91.34 %\n",
      "std is 2.88 %\n"
     ]
    }
   ],
   "source": [
    "from sklearn.model_selection import cross_val_score\n",
    "accuracies = cross_val_score(estimator=dc, X=X_train ,y=y_train,cv=10)\n",
    "print(\"accuracy is {:.2f} %\".format(accuracies.mean()*100))\n",
    "print(\"std is {:.2f} %\".format(accuracies.std()*100))"
   ]
  },
  {
   "cell_type": "code",
   "execution_count": 46,
   "id": "2ef08bc8",
   "metadata": {},
   "outputs": [
    {
     "name": "stdout",
     "output_type": "stream",
     "text": [
      "0.9615384615384616\n",
      "[[38  2]\n",
      " [ 2 62]]\n"
     ]
    }
   ],
   "source": [
    "pre5=dc.predict(X_test)\n",
    "Decisiontress_classifier=accuracy_score(pre5,y_test)\n",
    "print(accuracy_score(pre5,y_test))\n",
    "print(confusion_matrix(pre5,y_test))"
   ]
  },
  {
   "cell_type": "code",
   "execution_count": 47,
   "id": "f277dfbb",
   "metadata": {},
   "outputs": [
    {
     "name": "stdout",
     "output_type": "stream",
     "text": [
      "              precision    recall  f1-score   support\n",
      "\n",
      "           0       0.95      0.95      0.95        40\n",
      "           1       0.97      0.97      0.97        64\n",
      "\n",
      "    accuracy                           0.96       104\n",
      "   macro avg       0.96      0.96      0.96       104\n",
      "weighted avg       0.96      0.96      0.96       104\n",
      "\n"
     ]
    }
   ],
   "source": [
    "from sklearn.metrics import classification_report\n",
    "print(classification_report(pre5,y_test))"
   ]
  },
  {
   "cell_type": "markdown",
   "id": "2fcd2530",
   "metadata": {},
   "source": [
    "# TREE RFC"
   ]
  },
  {
   "cell_type": "code",
   "execution_count": 48,
   "id": "935d9237",
   "metadata": {},
   "outputs": [
    {
     "name": "stdout",
     "output_type": "stream",
     "text": [
      "accuracy is 92.07 %\n",
      "std is 3.59 %\n"
     ]
    }
   ],
   "source": [
    "from sklearn.ensemble import RandomForestClassifier\n",
    "estime=[]\n",
    "for i in range(1,100):\n",
    "    rc=RandomForestClassifier(n_estimators=i,criterion='entropy',random_state=0)\n",
    "    rc.fit(X_train,y_train)\n",
    "    \n",
    "from sklearn.model_selection import cross_val_score\n",
    "accuracies = cross_val_score(estimator=rc, X=X_train ,y=y_train,cv=10)\n",
    "print(\"accuracy is {:.2f} %\".format(accuracies.mean()*100))\n",
    "print(\"std is {:.2f} %\".format(accuracies.std()*100))"
   ]
  },
  {
   "cell_type": "code",
   "execution_count": 49,
   "id": "1c58c068",
   "metadata": {},
   "outputs": [
    {
     "name": "stdout",
     "output_type": "stream",
     "text": [
      "0.9903846153846154\n",
      "[[39  0]\n",
      " [ 1 64]]\n"
     ]
    }
   ],
   "source": [
    "pre6 = rc.predict(X_test)\n",
    "Random_forest=accuracy_score(pre6,y_test)\n",
    "print(accuracy_score(pre6,y_test))\n",
    "print(confusion_matrix(pre6,y_test))"
   ]
  },
  {
   "cell_type": "code",
   "execution_count": 50,
   "id": "5ac8d5c5",
   "metadata": {},
   "outputs": [
    {
     "name": "stdout",
     "output_type": "stream",
     "text": [
      "              precision    recall  f1-score   support\n",
      "\n",
      "           0       0.97      1.00      0.99        39\n",
      "           1       1.00      0.98      0.99        65\n",
      "\n",
      "    accuracy                           0.99       104\n",
      "   macro avg       0.99      0.99      0.99       104\n",
      "weighted avg       0.99      0.99      0.99       104\n",
      "\n"
     ]
    }
   ],
   "source": [
    "from sklearn.metrics import classification_report\n",
    "print(classification_report(pre6,y_test))"
   ]
  },
  {
   "cell_type": "code",
   "execution_count": null,
   "id": "898f2ba0",
   "metadata": {},
   "outputs": [],
   "source": []
  }
 ],
 "metadata": {
  "kernelspec": {
   "display_name": "Python 3 (ipykernel)",
   "language": "python",
   "name": "python3"
  },
  "language_info": {
   "codemirror_mode": {
    "name": "ipython",
    "version": 3
   },
   "file_extension": ".py",
   "mimetype": "text/x-python",
   "name": "python",
   "nbconvert_exporter": "python",
   "pygments_lexer": "ipython3",
   "version": "3.9.12"
  }
 },
 "nbformat": 4,
 "nbformat_minor": 5
}
